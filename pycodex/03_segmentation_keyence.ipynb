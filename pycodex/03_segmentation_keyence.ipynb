{
 "cells": [
  {
   "cell_type": "markdown",
   "metadata": {},
   "source": [
    "# Segmentation for Keyence\n",
    "\n",
    "pycodex version 0.1.1"
   ]
  },
  {
   "cell_type": "code",
   "execution_count": 19,
   "metadata": {},
   "outputs": [],
   "source": [
    "import sys\n",
    "\n",
    "sys.path.append(\"/mnt/nfs/home/wenruiwu/projects\")\n"
   ]
  },
  {
   "cell_type": "code",
   "execution_count": 26,
   "metadata": {},
   "outputs": [
    {
     "name": "stdout",
     "output_type": "stream",
     "text": [
      "Using GPU(s): ['/physical_device:GPU:0']\n"
     ]
    }
   ],
   "source": [
    "import importlib\n",
    "import os\n",
    "\n",
    "from projects.pycodex.pycodex.data_process import crop\n",
    "from projects.pycodex.pycodex.segmentation import io_keyence as io\n",
    "from projects.pycodex.pycodex.segmentation import mobject as mo\n",
    "from projects.pycodex.pycodex.segmentation import segmentation as seg\n",
    "from projects.pycodex.pycodex.segmentation import utils as utl\n",
    "from projects.pycodex.pycodex.segmentation import visualization as vis\n",
    "\n",
    "for module in [crop, io, vis, seg, mo, utl]:\n",
    "    importlib.reload(module)\n",
    "\n",
    "from tifffile import tifffile\n",
    "\n",
    "for module in [crop, io, vis, seg, mo, utl]:\n",
    "    importlib.reload(module)\n",
    "\n",
    "# GPU setup: Specify visible GPU(s) and allow memory growth\n",
    "os.environ[\"CUDA_VISIBLE_DEVICES\"] = \"2\"\n",
    "\n",
    "try:\n",
    "    gpus = tf.config.list_physical_devices(\"GPU\")\n",
    "    if gpus:\n",
    "        for gpu in gpus:\n",
    "            tf.config.experimental.set_memory_growth(gpu, True)\n",
    "        print(f\"Using GPU(s): {[gpu.name for gpu in gpus]}\")\n",
    "    else:\n",
    "        print(\"No GPU detected, using CPU.\")\n",
    "except RuntimeError as e:\n",
    "    print(f\"GPU setup failed: {e}\")\n"
   ]
  },
  {
   "cell_type": "markdown",
   "metadata": {},
   "source": [
    "# 00. Data Overview"
   ]
  },
  {
   "cell_type": "code",
   "execution_count": 21,
   "metadata": {},
   "outputs": [
    {
     "name": "stdout",
     "output_type": "stream",
     "text": [
      "Summary of Markers:\n",
      "- Total unique markers: 77\n",
      "- Unique markers: 75 ['ATP5A', 'C1Q', 'CA9_250ms', 'CA9_500ms', 'CD11b', 'CD11c', 'CD138', 'CD16', 'CD163', 'CD20', 'CD28', 'CD31', 'CD3e', 'CD4', 'CD45', 'CD45RA', 'CD45RO', 'CD56', 'CD57', 'CD68', 'CD69', 'CD8', 'CD86', 'Ch1Cy1', 'Ch1Cy10', 'Ch1Cy11', 'Ch1Cy12', 'Ch1Cy13', 'Ch1Cy14', 'Ch1Cy15', 'Ch1Cy16', 'Ch1Cy17', 'Ch1Cy18', 'Ch1Cy19', 'Ch1Cy2', 'Ch1Cy20', 'Ch1Cy21', 'Ch1Cy22', 'Ch1Cy23', 'Ch1Cy24', 'Ch1Cy25', 'Ch1Cy28', 'Ch1Cy3', 'Ch1Cy30', 'Ch1Cy31', 'Ch1Cy4', 'Ch1Cy5', 'Ch1Cy6', 'Ch1Cy7', 'Ch1Cy8', 'Ch1Cy9', 'Cytokeratin', 'DIG_TREM2', 'FoxP3', 'G6PD', 'GLUT1', 'GranzymeB', 'HLA1', 'IDO-1', 'IFN-y', 'Ki-67', 'LAG-3', 'MPO', 'NaKATP', 'P53', 'PD-1', 'PDL1_100_500ms', 'PDL1_50_250ms', 'Podoplanin', 'T-bet', 'TCF1_7', 'Tim-3', 'Tox_Tox2', 'VDAC1', 'aSMA']\n",
      "- Blank markers: 2 ['Blank', 'BLANK_500ms_1']\n",
      "- Markers duplicated in some regions: 0 []\n",
      "- Markers missing in some regions: 0 []\n"
     ]
    },
    {
     "data": {
      "text/html": [
       "<div>\n",
       "<style scoped>\n",
       "    .dataframe tbody tr th:only-of-type {\n",
       "        vertical-align: middle;\n",
       "    }\n",
       "\n",
       "    .dataframe tbody tr th {\n",
       "        vertical-align: top;\n",
       "    }\n",
       "\n",
       "    .dataframe thead th {\n",
       "        text-align: right;\n",
       "    }\n",
       "</style>\n",
       "<table border=\"1\" class=\"dataframe\">\n",
       "  <thead>\n",
       "    <tr style=\"text-align: right;\">\n",
       "      <th></th>\n",
       "      <th>1</th>\n",
       "      <th>2</th>\n",
       "      <th>3</th>\n",
       "      <th>4</th>\n",
       "      <th>5</th>\n",
       "      <th>6</th>\n",
       "      <th>7</th>\n",
       "      <th>8</th>\n",
       "      <th>9</th>\n",
       "      <th>10</th>\n",
       "    </tr>\n",
       "  </thead>\n",
       "  <tbody>\n",
       "    <tr>\n",
       "      <th>0</th>\n",
       "      <td>ATP5A</td>\n",
       "      <td>C1Q</td>\n",
       "      <td>CA9_250ms</td>\n",
       "      <td>CA9_500ms</td>\n",
       "      <td>CD11b</td>\n",
       "      <td>CD11c</td>\n",
       "      <td>CD138</td>\n",
       "      <td>CD16</td>\n",
       "      <td>CD163</td>\n",
       "      <td>CD20</td>\n",
       "    </tr>\n",
       "    <tr>\n",
       "      <th>1</th>\n",
       "      <td>CD28</td>\n",
       "      <td>CD31</td>\n",
       "      <td>CD3e</td>\n",
       "      <td>CD4</td>\n",
       "      <td>CD45</td>\n",
       "      <td>CD45RA</td>\n",
       "      <td>CD45RO</td>\n",
       "      <td>CD56</td>\n",
       "      <td>CD57</td>\n",
       "      <td>CD68</td>\n",
       "    </tr>\n",
       "    <tr>\n",
       "      <th>2</th>\n",
       "      <td>CD69</td>\n",
       "      <td>CD8</td>\n",
       "      <td>CD86</td>\n",
       "      <td>Ch1Cy1</td>\n",
       "      <td>Ch1Cy10</td>\n",
       "      <td>Ch1Cy11</td>\n",
       "      <td>Ch1Cy12</td>\n",
       "      <td>Ch1Cy13</td>\n",
       "      <td>Ch1Cy14</td>\n",
       "      <td>Ch1Cy15</td>\n",
       "    </tr>\n",
       "    <tr>\n",
       "      <th>3</th>\n",
       "      <td>Ch1Cy16</td>\n",
       "      <td>Ch1Cy17</td>\n",
       "      <td>Ch1Cy18</td>\n",
       "      <td>Ch1Cy19</td>\n",
       "      <td>Ch1Cy2</td>\n",
       "      <td>Ch1Cy20</td>\n",
       "      <td>Ch1Cy21</td>\n",
       "      <td>Ch1Cy22</td>\n",
       "      <td>Ch1Cy23</td>\n",
       "      <td>Ch1Cy24</td>\n",
       "    </tr>\n",
       "    <tr>\n",
       "      <th>4</th>\n",
       "      <td>Ch1Cy25</td>\n",
       "      <td>Ch1Cy28</td>\n",
       "      <td>Ch1Cy3</td>\n",
       "      <td>Ch1Cy30</td>\n",
       "      <td>Ch1Cy31</td>\n",
       "      <td>Ch1Cy4</td>\n",
       "      <td>Ch1Cy5</td>\n",
       "      <td>Ch1Cy6</td>\n",
       "      <td>Ch1Cy7</td>\n",
       "      <td>Ch1Cy8</td>\n",
       "    </tr>\n",
       "    <tr>\n",
       "      <th>5</th>\n",
       "      <td>Ch1Cy9</td>\n",
       "      <td>Cytokeratin</td>\n",
       "      <td>DIG_TREM2</td>\n",
       "      <td>FoxP3</td>\n",
       "      <td>G6PD</td>\n",
       "      <td>GLUT1</td>\n",
       "      <td>GranzymeB</td>\n",
       "      <td>HLA1</td>\n",
       "      <td>IDO-1</td>\n",
       "      <td>IFN-y</td>\n",
       "    </tr>\n",
       "    <tr>\n",
       "      <th>6</th>\n",
       "      <td>Ki-67</td>\n",
       "      <td>LAG-3</td>\n",
       "      <td>MPO</td>\n",
       "      <td>NaKATP</td>\n",
       "      <td>P53</td>\n",
       "      <td>PD-1</td>\n",
       "      <td>PDL1_100_500ms</td>\n",
       "      <td>PDL1_50_250ms</td>\n",
       "      <td>Podoplanin</td>\n",
       "      <td>T-bet</td>\n",
       "    </tr>\n",
       "    <tr>\n",
       "      <th>7</th>\n",
       "      <td>TCF1_7</td>\n",
       "      <td>Tim-3</td>\n",
       "      <td>Tox_Tox2</td>\n",
       "      <td>VDAC1</td>\n",
       "      <td>aSMA</td>\n",
       "      <td></td>\n",
       "      <td></td>\n",
       "      <td></td>\n",
       "      <td></td>\n",
       "      <td></td>\n",
       "    </tr>\n",
       "  </tbody>\n",
       "</table>\n",
       "</div>"
      ],
      "text/plain": [
       "        1            2          3          4        5        6   \\\n",
       "0    ATP5A          C1Q  CA9_250ms  CA9_500ms    CD11b    CD11c   \n",
       "1     CD28         CD31       CD3e        CD4     CD45   CD45RA   \n",
       "2     CD69          CD8       CD86     Ch1Cy1  Ch1Cy10  Ch1Cy11   \n",
       "3  Ch1Cy16      Ch1Cy17    Ch1Cy18    Ch1Cy19   Ch1Cy2  Ch1Cy20   \n",
       "4  Ch1Cy25      Ch1Cy28     Ch1Cy3    Ch1Cy30  Ch1Cy31   Ch1Cy4   \n",
       "5   Ch1Cy9  Cytokeratin  DIG_TREM2      FoxP3     G6PD    GLUT1   \n",
       "6    Ki-67        LAG-3        MPO     NaKATP      P53     PD-1   \n",
       "7   TCF1_7        Tim-3   Tox_Tox2      VDAC1     aSMA            \n",
       "\n",
       "               7              8           9        10  \n",
       "0           CD138           CD16       CD163     CD20  \n",
       "1          CD45RO           CD56        CD57     CD68  \n",
       "2         Ch1Cy12        Ch1Cy13     Ch1Cy14  Ch1Cy15  \n",
       "3         Ch1Cy21        Ch1Cy22     Ch1Cy23  Ch1Cy24  \n",
       "4          Ch1Cy5         Ch1Cy6      Ch1Cy7   Ch1Cy8  \n",
       "5       GranzymeB           HLA1       IDO-1    IFN-y  \n",
       "6  PDL1_100_500ms  PDL1_50_250ms  Podoplanin    T-bet  \n",
       "7                                                      "
      ]
     },
     "metadata": {},
     "output_type": "display_data"
    },
    {
     "data": {
      "text/html": [
       "<div>\n",
       "<style scoped>\n",
       "    .dataframe tbody tr th:only-of-type {\n",
       "        vertical-align: middle;\n",
       "    }\n",
       "\n",
       "    .dataframe tbody tr th {\n",
       "        vertical-align: top;\n",
       "    }\n",
       "\n",
       "    .dataframe thead th {\n",
       "        text-align: right;\n",
       "    }\n",
       "</style>\n",
       "<table border=\"1\" class=\"dataframe\">\n",
       "  <thead>\n",
       "    <tr style=\"text-align: right;\">\n",
       "      <th></th>\n",
       "      <th>1</th>\n",
       "      <th>2</th>\n",
       "      <th>3</th>\n",
       "      <th>4</th>\n",
       "      <th>5</th>\n",
       "      <th>6</th>\n",
       "      <th>7</th>\n",
       "      <th>8</th>\n",
       "      <th>9</th>\n",
       "      <th>10</th>\n",
       "    </tr>\n",
       "  </thead>\n",
       "  <tbody>\n",
       "    <tr>\n",
       "      <th>0</th>\n",
       "      <td>reg001</td>\n",
       "      <td>reg002</td>\n",
       "      <td>reg003</td>\n",
       "      <td>reg004</td>\n",
       "      <td>reg005</td>\n",
       "      <td>reg006</td>\n",
       "      <td>reg007</td>\n",
       "      <td>reg008</td>\n",
       "      <td>reg009</td>\n",
       "      <td>reg010</td>\n",
       "    </tr>\n",
       "    <tr>\n",
       "      <th>1</th>\n",
       "      <td>reg011</td>\n",
       "      <td>reg012</td>\n",
       "      <td>reg013</td>\n",
       "      <td>reg014</td>\n",
       "      <td>reg015</td>\n",
       "      <td>reg016</td>\n",
       "      <td>reg017</td>\n",
       "      <td>reg018</td>\n",
       "      <td>reg019</td>\n",
       "      <td>reg020</td>\n",
       "    </tr>\n",
       "    <tr>\n",
       "      <th>2</th>\n",
       "      <td>reg021</td>\n",
       "      <td>reg022</td>\n",
       "      <td>reg023</td>\n",
       "      <td>reg024</td>\n",
       "      <td>reg025</td>\n",
       "      <td></td>\n",
       "      <td></td>\n",
       "      <td></td>\n",
       "      <td></td>\n",
       "      <td></td>\n",
       "    </tr>\n",
       "  </tbody>\n",
       "</table>\n",
       "</div>"
      ],
      "text/plain": [
       "       1       2       3       4       5       6       7       8       9   \\\n",
       "0  reg001  reg002  reg003  reg004  reg005  reg006  reg007  reg008  reg009   \n",
       "1  reg011  reg012  reg013  reg014  reg015  reg016  reg017  reg018  reg019   \n",
       "2  reg021  reg022  reg023  reg024  reg025                                   \n",
       "\n",
       "       10  \n",
       "0  reg010  \n",
       "1  reg020  \n",
       "2          "
      ]
     },
     "metadata": {},
     "output_type": "display_data"
    }
   ],
   "source": [
    "final_dir = \"/mnt/nfs/storage/RCC/RCC_formal_CODEX/RCC_TMA543/images/final\"\n",
    "metadata_dict = io.organize_metadata(final_dir)\n",
    "\n",
    "unique_markers, _, _, _ = mo.metadata_dict_summary_marker(metadata_dict)\n",
    "utl.display_items(unique_markers)\n",
    "utl.display_items(list(metadata_dict.keys()))\n"
   ]
  },
  {
   "cell_type": "markdown",
   "metadata": {},
   "source": [
    "# 02. Segmentation"
   ]
  },
  {
   "cell_type": "code",
   "execution_count": 28,
   "metadata": {},
   "outputs": [
    {
     "name": "stderr",
     "output_type": "stream",
     "text": [
      "  0%|          | 0/25 [00:00<?, ?it/s]"
     ]
    },
    {
     "name": "stdout",
     "output_type": "stream",
     "text": [
      "CD45\n",
      "NaKATP\n",
      "HLA1\n",
      "G6PD\n",
      "CD45RO\n",
      "CD45RA\n",
      "CD8\n",
      "CD20\n",
      "CD31\n",
      "CA9_500ms\n",
      "Ch1Cy1\n",
      "VDAC1\n",
      "ATP5A\n"
     ]
    },
    {
     "name": "stderr",
     "output_type": "stream",
     "text": [
      "  4%|▍         | 1/25 [00:02<01:05,  2.73s/it]"
     ]
    },
    {
     "name": "stdout",
     "output_type": "stream",
     "text": [
      "aSMA\n",
      "CD45\n",
      "NaKATP\n",
      "HLA1\n",
      "G6PD\n",
      "CD45RO\n",
      "CD45RA\n",
      "CD8\n",
      "CD20\n",
      "CD31\n",
      "CA9_500ms\n",
      "Ch1Cy1\n",
      "VDAC1\n",
      "ATP5A\n",
      "aSMA\n"
     ]
    },
    {
     "name": "stderr",
     "output_type": "stream",
     "text": [
      "  8%|▊         | 2/25 [00:05<01:00,  2.63s/it]"
     ]
    },
    {
     "name": "stdout",
     "output_type": "stream",
     "text": [
      "CD45\n",
      "NaKATP\n",
      "HLA1\n",
      "G6PD\n",
      "CD45RO\n",
      "CD45RA\n",
      "CD8\n",
      "CD20\n",
      "CD31\n",
      "CA9_500ms\n",
      "Ch1Cy1\n",
      "VDAC1\n",
      "ATP5A\n",
      "aSMA\n"
     ]
    },
    {
     "name": "stderr",
     "output_type": "stream",
     "text": [
      " 12%|█▏        | 3/25 [00:10<01:22,  3.74s/it]"
     ]
    },
    {
     "name": "stdout",
     "output_type": "stream",
     "text": [
      "CD45\n",
      "NaKATP\n",
      "HLA1\n",
      "G6PD\n",
      "CD45RO\n",
      "CD45RA\n",
      "CD8\n",
      "CD20\n",
      "CD31\n",
      "CA9_500ms\n",
      "Ch1Cy1\n",
      "VDAC1\n",
      "ATP5A\n",
      "aSMA\n"
     ]
    },
    {
     "name": "stderr",
     "output_type": "stream",
     "text": [
      " 16%|█▌        | 4/25 [00:18<01:58,  5.64s/it]"
     ]
    },
    {
     "name": "stdout",
     "output_type": "stream",
     "text": [
      "CD45\n",
      "NaKATP\n",
      "HLA1\n",
      "G6PD\n",
      "CD45RO\n",
      "CD45RA\n",
      "CD8\n",
      "CD20\n",
      "CD31\n",
      "CA9_500ms\n",
      "Ch1Cy1\n",
      "VDAC1\n",
      "ATP5A\n",
      "aSMA\n"
     ]
    },
    {
     "name": "stderr",
     "output_type": "stream",
     "text": [
      " 20%|██        | 5/25 [00:26<02:09,  6.46s/it]"
     ]
    },
    {
     "name": "stdout",
     "output_type": "stream",
     "text": [
      "CD45\n",
      "NaKATP\n",
      "HLA1\n",
      "G6PD\n",
      "CD45RO\n",
      "CD45RA\n",
      "CD8\n",
      "CD20\n",
      "CD31\n",
      "CA9_500ms\n",
      "Ch1Cy1\n"
     ]
    },
    {
     "name": "stderr",
     "output_type": "stream",
     "text": [
      " 24%|██▍       | 6/25 [00:28<01:34,  5.00s/it]"
     ]
    },
    {
     "name": "stdout",
     "output_type": "stream",
     "text": [
      "VDAC1\n",
      "ATP5A\n",
      "aSMA\n",
      "CD45\n",
      "NaKATP\n",
      "HLA1\n",
      "G6PD\n",
      "CD45RO\n",
      "CD45RA\n",
      "CD8\n",
      "CD20\n",
      "CD31\n",
      "CA9_500ms\n",
      "Ch1Cy1\n",
      "VDAC1\n",
      "ATP5A\n",
      "aSMA\n"
     ]
    },
    {
     "name": "stderr",
     "output_type": "stream",
     "text": [
      " 28%|██▊       | 7/25 [00:36<01:47,  5.97s/it]"
     ]
    },
    {
     "name": "stdout",
     "output_type": "stream",
     "text": [
      "CD45\n",
      "NaKATP\n",
      "HLA1\n",
      "G6PD\n",
      "CD45RO\n",
      "CD45RA\n",
      "CD8\n",
      "CD20\n",
      "CD31\n",
      "CA9_500ms\n",
      "Ch1Cy1\n",
      "VDAC1\n",
      "ATP5A\n",
      "aSMA\n"
     ]
    },
    {
     "name": "stderr",
     "output_type": "stream",
     "text": [
      " 32%|███▏      | 8/25 [00:45<01:54,  6.73s/it]"
     ]
    },
    {
     "name": "stdout",
     "output_type": "stream",
     "text": [
      "CD45\n",
      "NaKATP\n",
      "HLA1\n",
      "G6PD\n",
      "CD45RO\n",
      "CD45RA\n",
      "CD8\n",
      "CD20\n",
      "CD31\n",
      "CA9_500ms\n",
      "Ch1Cy1\n"
     ]
    },
    {
     "name": "stderr",
     "output_type": "stream",
     "text": [
      " 36%|███▌      | 9/25 [00:47<01:24,  5.27s/it]"
     ]
    },
    {
     "name": "stdout",
     "output_type": "stream",
     "text": [
      "VDAC1\n",
      "ATP5A\n",
      "aSMA\n",
      "CD45\n",
      "NaKATP\n",
      "HLA1\n",
      "G6PD\n",
      "CD45RO\n",
      "CD45RA\n",
      "CD8\n",
      "CD20\n",
      "CD31\n",
      "CA9_500ms\n",
      "Ch1Cy1\n",
      "VDAC1\n",
      "ATP5A\n",
      "aSMA\n"
     ]
    },
    {
     "name": "stderr",
     "output_type": "stream",
     "text": [
      " 40%|████      | 10/25 [00:49<01:14,  4.94s/it]\n"
     ]
    },
    {
     "name": "stdout",
     "output_type": "stream",
     "text": [
      "CD45\n"
     ]
    },
    {
     "ename": "KeyboardInterrupt",
     "evalue": "",
     "output_type": "error",
     "traceback": [
      "\u001b[0;31m---------------------------------------------------------------------------\u001b[0m",
      "\u001b[0;31mKeyboardInterrupt\u001b[0m                         Traceback (most recent call last)",
      "Cell \u001b[0;32mIn[28], line 14\u001b[0m\n\u001b[1;32m     12\u001b[0m marker_dir \u001b[38;5;241m=\u001b[39m \u001b[38;5;124m\"\u001b[39m\u001b[38;5;124m/mnt/nfs/storage/RCC/RCC_formal_CODEX/RCC_TMA543/images/final\u001b[39m\u001b[38;5;124m\"\u001b[39m\n\u001b[1;32m     13\u001b[0m metadata_dict \u001b[38;5;241m=\u001b[39m io\u001b[38;5;241m.\u001b[39morganize_metadata(marker_dir)\n\u001b[0;32m---> 14\u001b[0m marker_object \u001b[38;5;241m=\u001b[39m \u001b[43mmo\u001b[49m\u001b[38;5;241;43m.\u001b[39;49m\u001b[43morganize_marker_object\u001b[49m\u001b[43m(\u001b[49m\u001b[43mmetadata_dict\u001b[49m\u001b[43m,\u001b[49m\u001b[43m \u001b[49m\u001b[43mmarker_list\u001b[49m\u001b[43m)\u001b[49m\n",
      "File \u001b[0;32m~/projects/pycodex/pycodex/segmentation/mobject.py:105\u001b[0m, in \u001b[0;36morganize_marker_object\u001b[0;34m(metadata_dict, marker_list)\u001b[0m\n\u001b[1;32m    103\u001b[0m         \u001b[38;5;28mprint\u001b[39m(marker)\n\u001b[1;32m    104\u001b[0m         marker_path \u001b[38;5;241m=\u001b[39m metadata_df[\u001b[38;5;124m\"\u001b[39m\u001b[38;5;124mpath\u001b[39m\u001b[38;5;124m\"\u001b[39m][metadata_df[\u001b[38;5;124m\"\u001b[39m\u001b[38;5;124mmarker\u001b[39m\u001b[38;5;124m\"\u001b[39m] \u001b[38;5;241m==\u001b[39m marker]\u001b[38;5;241m.\u001b[39mitem()\n\u001b[0;32m--> 105\u001b[0m         marker_dict[marker] \u001b[38;5;241m=\u001b[39m \u001b[43mtifffile\u001b[49m\u001b[38;5;241;43m.\u001b[39;49m\u001b[43mimread\u001b[49m\u001b[43m(\u001b[49m\u001b[43mmarker_path\u001b[49m\u001b[43m)\u001b[49m\n\u001b[1;32m    106\u001b[0m     marker_object[region] \u001b[38;5;241m=\u001b[39m marker_dict\n\u001b[1;32m    107\u001b[0m \u001b[38;5;28;01mreturn\u001b[39;00m marker_object\n",
      "File \u001b[0;32m/opt/miniconda3/envs/cellSeg/lib/python3.9/site-packages/tifffile/tifffile.py:1246\u001b[0m, in \u001b[0;36mimread\u001b[0;34m(***failed resolving arguments***)\u001b[0m\n\u001b[1;32m   1241\u001b[0m     files \u001b[38;5;241m=\u001b[39m files[\u001b[38;5;241m0\u001b[39m]\n\u001b[1;32m   1243\u001b[0m \u001b[38;5;28;01mif\u001b[39;00m \u001b[38;5;28misinstance\u001b[39m(files, \u001b[38;5;28mstr\u001b[39m) \u001b[38;5;129;01mor\u001b[39;00m \u001b[38;5;129;01mnot\u001b[39;00m \u001b[38;5;28misinstance\u001b[39m(\n\u001b[1;32m   1244\u001b[0m     files, collections\u001b[38;5;241m.\u001b[39mabc\u001b[38;5;241m.\u001b[39mSequence\n\u001b[1;32m   1245\u001b[0m ):\n\u001b[0;32m-> 1246\u001b[0m     \u001b[38;5;28;01mwith\u001b[39;00m \u001b[43mTiffFile\u001b[49m\u001b[43m(\u001b[49m\n\u001b[1;32m   1247\u001b[0m \u001b[43m        \u001b[49m\u001b[43mfiles\u001b[49m\u001b[43m,\u001b[49m\n\u001b[1;32m   1248\u001b[0m \u001b[43m        \u001b[49m\u001b[43mmode\u001b[49m\u001b[38;5;241;43m=\u001b[39;49m\u001b[43mmode\u001b[49m\u001b[43m,\u001b[49m\n\u001b[1;32m   1249\u001b[0m \u001b[43m        \u001b[49m\u001b[43mname\u001b[49m\u001b[38;5;241;43m=\u001b[39;49m\u001b[43mname\u001b[49m\u001b[43m,\u001b[49m\n\u001b[1;32m   1250\u001b[0m \u001b[43m        \u001b[49m\u001b[43moffset\u001b[49m\u001b[38;5;241;43m=\u001b[39;49m\u001b[43moffset\u001b[49m\u001b[43m,\u001b[49m\n\u001b[1;32m   1251\u001b[0m \u001b[43m        \u001b[49m\u001b[43msize\u001b[49m\u001b[38;5;241;43m=\u001b[39;49m\u001b[43msize\u001b[49m\u001b[43m,\u001b[49m\n\u001b[1;32m   1252\u001b[0m \u001b[43m        \u001b[49m\u001b[43momexml\u001b[49m\u001b[38;5;241;43m=\u001b[39;49m\u001b[43momexml\u001b[49m\u001b[43m,\u001b[49m\n\u001b[1;32m   1253\u001b[0m \u001b[43m        \u001b[49m\u001b[43m_multifile\u001b[49m\u001b[38;5;241;43m=\u001b[39;49m\u001b[43m_multifile\u001b[49m\u001b[43m,\u001b[49m\n\u001b[1;32m   1254\u001b[0m \u001b[43m        \u001b[49m\u001b[43m_useframes\u001b[49m\u001b[38;5;241;43m=\u001b[39;49m\u001b[43m_useframes\u001b[49m\u001b[43m,\u001b[49m\n\u001b[1;32m   1255\u001b[0m \u001b[43m        \u001b[49m\u001b[38;5;241;43m*\u001b[39;49m\u001b[38;5;241;43m*\u001b[39;49m\u001b[43mis_flags\u001b[49m\u001b[43m,\u001b[49m\n\u001b[1;32m   1256\u001b[0m \u001b[43m    \u001b[49m\u001b[43m)\u001b[49m \u001b[38;5;28;01mas\u001b[39;00m tif:\n\u001b[1;32m   1257\u001b[0m         \u001b[38;5;28;01mif\u001b[39;00m aszarr:\n\u001b[1;32m   1258\u001b[0m             \u001b[38;5;28;01massert\u001b[39;00m key \u001b[38;5;129;01mis\u001b[39;00m \u001b[38;5;28;01mNone\u001b[39;00m \u001b[38;5;129;01mor\u001b[39;00m \u001b[38;5;28misinstance\u001b[39m(key, \u001b[38;5;28mint\u001b[39m)\n",
      "File \u001b[0;32m/opt/miniconda3/envs/cellSeg/lib/python3.9/site-packages/tifffile/tifffile.py:4301\u001b[0m, in \u001b[0;36mTiffFile.__init__\u001b[0;34m(self, file, mode, name, offset, size, omexml, _multifile, _useframes, _parent, **is_flags)\u001b[0m\n\u001b[1;32m   4298\u001b[0m     \u001b[38;5;28;01mraise\u001b[39;00m TiffFileError(\u001b[38;5;124mf\u001b[39m\u001b[38;5;124m'\u001b[39m\u001b[38;5;124minvalid TIFF version \u001b[39m\u001b[38;5;132;01m{\u001b[39;00mversion\u001b[38;5;132;01m}\u001b[39;00m\u001b[38;5;124m'\u001b[39m)\n\u001b[1;32m   4300\u001b[0m \u001b[38;5;66;03m# file handle is at offset to offset to first page\u001b[39;00m\n\u001b[0;32m-> 4301\u001b[0m \u001b[38;5;28mself\u001b[39m\u001b[38;5;241m.\u001b[39mpages \u001b[38;5;241m=\u001b[39m \u001b[43mTiffPages\u001b[49m\u001b[43m(\u001b[49m\u001b[38;5;28;43mself\u001b[39;49m\u001b[43m)\u001b[49m\n\u001b[1;32m   4303\u001b[0m \u001b[38;5;28;01mif\u001b[39;00m \u001b[38;5;28mself\u001b[39m\u001b[38;5;241m.\u001b[39mis_lsm \u001b[38;5;129;01mand\u001b[39;00m (\n\u001b[1;32m   4304\u001b[0m     \u001b[38;5;28mself\u001b[39m\u001b[38;5;241m.\u001b[39mfilehandle\u001b[38;5;241m.\u001b[39msize \u001b[38;5;241m>\u001b[39m\u001b[38;5;241m=\u001b[39m \u001b[38;5;241m2\u001b[39m\u001b[38;5;241m*\u001b[39m\u001b[38;5;241m*\u001b[39m\u001b[38;5;241m32\u001b[39m\n\u001b[1;32m   4305\u001b[0m     \u001b[38;5;129;01mor\u001b[39;00m \u001b[38;5;28mself\u001b[39m\u001b[38;5;241m.\u001b[39mpages[\u001b[38;5;241m0\u001b[39m]\u001b[38;5;241m.\u001b[39mcompression \u001b[38;5;241m!=\u001b[39m \u001b[38;5;241m1\u001b[39m\n\u001b[1;32m   4306\u001b[0m     \u001b[38;5;129;01mor\u001b[39;00m \u001b[38;5;28mself\u001b[39m\u001b[38;5;241m.\u001b[39mpages[\u001b[38;5;241m1\u001b[39m]\u001b[38;5;241m.\u001b[39mcompression \u001b[38;5;241m!=\u001b[39m \u001b[38;5;241m1\u001b[39m\n\u001b[1;32m   4307\u001b[0m ):\n\u001b[1;32m   4308\u001b[0m     \u001b[38;5;28mself\u001b[39m\u001b[38;5;241m.\u001b[39m_lsm_load_pages()\n",
      "File \u001b[0;32m/opt/miniconda3/envs/cellSeg/lib/python3.9/site-packages/tifffile/tifffile.py:7379\u001b[0m, in \u001b[0;36mTiffPages.__init__\u001b[0;34m(self, arg, index)\u001b[0m\n\u001b[1;32m   7376\u001b[0m \u001b[38;5;28;01melse\u001b[39;00m:\n\u001b[1;32m   7377\u001b[0m     \u001b[38;5;28mself\u001b[39m\u001b[38;5;241m.\u001b[39m_index \u001b[38;5;241m=\u001b[39m \u001b[38;5;28mtuple\u001b[39m(index)\n\u001b[0;32m-> 7379\u001b[0m \u001b[38;5;28;01mif\u001b[39;00m \u001b[38;5;28;43misinstance\u001b[39;49m(arg, TiffFile):\n\u001b[1;32m   7380\u001b[0m     \u001b[38;5;66;03m# read offset to first page from current file position\u001b[39;00m\n\u001b[1;32m   7381\u001b[0m     \u001b[38;5;28mself\u001b[39m\u001b[38;5;241m.\u001b[39mparent \u001b[38;5;241m=\u001b[39m arg\n\u001b[1;32m   7382\u001b[0m     fh \u001b[38;5;241m=\u001b[39m \u001b[38;5;28mself\u001b[39m\u001b[38;5;241m.\u001b[39mparent\u001b[38;5;241m.\u001b[39mfilehandle\n",
      "\u001b[0;31mKeyboardInterrupt\u001b[0m: "
     ]
    }
   ],
   "source": [
    "# parameter ^ #####\n",
    "boundary_markers = [\"CD45\", \"NaKATP\", \"HLA1\", \"G6PD\", \"CD45RO\", \"CD45RA\", \"CD8\", \"CD20\", \"CD31\", \"CA9_500ms\"]\n",
    "internal_markers = [\"Ch1Cy1\", \"VDAC1\", \"ATP5A\", \"aSMA\"]\n",
    "pixel_size_um = 377.5202 / 1000\n",
    "scale = True\n",
    "maxima_threshold = 0.075\n",
    "interior_threshold = 0.20\n",
    "# parameter $ #####\n",
    "\n",
    "marker_list = boundary_markers + internal_markers\n",
    "\n",
    "marker_dir = \"/mnt/nfs/storage/RCC/RCC_formal_CODEX/RCC_TMA543/images/final\"\n",
    "metadata_dict = io.organize_metadata(marker_dir)\n",
    "marker_object = mo.organize_marker_object(metadata_dict, marker_list)"
   ]
  },
  {
   "cell_type": "code",
   "execution_count": 32,
   "metadata": {},
   "outputs": [
    {
     "data": {
      "text/plain": [
       "'/mnt/nfs/storage/RCC/RCC_formal_CODEX/RCC_TMA543/images/final/reg001/reg001_cyc020_ch003_CD45.tif'"
      ]
     },
     "execution_count": 32,
     "metadata": {},
     "output_type": "execute_result"
    }
   ],
   "source": [
    "marker = \"CD45\"\n",
    "metadata_df = metadata_dict[\"reg001\"]\n",
    "\n",
    "metadata_df[\"path\"][metadata_df[\"marker\"] == marker].item()"
   ]
  },
  {
   "cell_type": "code",
   "execution_count": null,
   "metadata": {},
   "outputs": [],
   "source": [
    "segmentation_dir = \"/mnt/nfs/home/wenruiwu/projects/shuli_rcc/data/output/segmentation_20241221\"\n",
    "mo.marker_object_segmentation_mesmer(\n",
    "    segmentation_dir,\n",
    "    marker_object,\n",
    "    boundary_markers,\n",
    "    internal_markers,\n",
    "    pixel_size_um,\n",
    "    scale,\n",
    "    maxima_threshold,\n",
    "    interior_threshold,\n",
    ")\n",
    "mo.extract_cell_features(marker_dir, segmentation_dir)\n"
   ]
  }
 ],
 "metadata": {
  "kernelspec": {
   "display_name": "cellSeg",
   "language": "python",
   "name": "python3"
  },
  "language_info": {
   "codemirror_mode": {
    "name": "ipython",
    "version": 3
   },
   "file_extension": ".py",
   "mimetype": "text/x-python",
   "name": "python",
   "nbconvert_exporter": "python",
   "pygments_lexer": "ipython3",
   "version": "3.9.16"
  }
 },
 "nbformat": 4,
 "nbformat_minor": 2
}
