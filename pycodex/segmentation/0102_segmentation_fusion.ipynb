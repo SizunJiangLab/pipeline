{
 "cells": [
  {
   "cell_type": "markdown",
   "metadata": {},
   "source": [
    "# Segmentation for Fusion\n",
    "\n",
    "pycodex version 0.1.3"
   ]
  },
  {
   "cell_type": "code",
   "execution_count": 1,
   "metadata": {},
   "outputs": [
    {
     "name": "stdout",
     "output_type": "stream",
     "text": [
      "Using GPU(s): ['/physical_device:GPU:0']\n"
     ]
    }
   ],
   "source": [
    "import os\n",
    "\n",
    "import tensorflow as tf\n",
    "from pycodex.data_process import crop\n",
    "from pycodex import io, metadata, markerim, utils, visualization as vis\n",
    "from tifffile import tifffile\n",
    "\n",
    "# GPU setup: Specify visible GPU(s) and allow memory growth\n",
    "os.environ[\"CUDA_VISIBLE_DEVICES\"] = \"2\"\n",
    "\n",
    "try:\n",
    "    gpus = tf.config.list_physical_devices(\"GPU\")\n",
    "    if gpus:\n",
    "        for gpu in gpus:\n",
    "            tf.config.experimental.set_memory_growth(gpu, True)\n",
    "        print(f\"Using GPU(s): {[gpu.name for gpu in gpus]}\")\n",
    "    else:\n",
    "        print(\"No GPU detected, using CPU.\")\n",
    "except RuntimeError as e:\n",
    "    print(f\"GPU setup failed: {e}\")\n"
   ]
  },
  {
   "cell_type": "markdown",
   "metadata": {},
   "source": [
    "# 00. Data Overview"
   ]
  },
  {
   "cell_type": "code",
   "execution_count": 2,
   "metadata": {},
   "outputs": [
    {
     "name": "stdout",
     "output_type": "stream",
     "text": [
      "Summary of Markers:\n",
      "- Total unique markers: 28\n",
      "- Unique markers: 26 ['CD11b', 'CD11c', 'CD138', 'CD15', 'CD31', 'CD3e', 'CD4', 'CD44', 'CD45', 'CD56', 'CD68', 'CD8', 'COLA1', 'DAPI', 'E-cadherin', 'HLA-1', 'HLA-DR', 'HLA-E', 'ICOS', 'KRT14', 'Ki67', 'MUC5AC', 'MUC5B', 'Pax5', 'Vimentin', 'a-SMA']\n",
      "- Blank markers: 2 ['Blank-75', 'Blank-75_2']\n",
      "- Markers duplicated in some regions: 0 []\n",
      "- Markers missing in some regions: 0 []\n"
     ]
    },
    {
     "data": {
      "text/html": [
       "<div>\n",
       "<style scoped>\n",
       "    .dataframe tbody tr th:only-of-type {\n",
       "        vertical-align: middle;\n",
       "    }\n",
       "\n",
       "    .dataframe tbody tr th {\n",
       "        vertical-align: top;\n",
       "    }\n",
       "\n",
       "    .dataframe thead th {\n",
       "        text-align: right;\n",
       "    }\n",
       "</style>\n",
       "<table border=\"1\" class=\"dataframe\">\n",
       "  <thead>\n",
       "    <tr style=\"text-align: right;\">\n",
       "      <th></th>\n",
       "      <th>1</th>\n",
       "      <th>2</th>\n",
       "      <th>3</th>\n",
       "      <th>4</th>\n",
       "      <th>5</th>\n",
       "      <th>6</th>\n",
       "      <th>7</th>\n",
       "      <th>8</th>\n",
       "      <th>9</th>\n",
       "      <th>10</th>\n",
       "    </tr>\n",
       "  </thead>\n",
       "  <tbody>\n",
       "    <tr>\n",
       "      <th>0</th>\n",
       "      <td>CD11b</td>\n",
       "      <td>CD11c</td>\n",
       "      <td>CD138</td>\n",
       "      <td>CD15</td>\n",
       "      <td>CD31</td>\n",
       "      <td>CD3e</td>\n",
       "      <td>CD4</td>\n",
       "      <td>CD44</td>\n",
       "      <td>CD45</td>\n",
       "      <td>CD56</td>\n",
       "    </tr>\n",
       "    <tr>\n",
       "      <th>1</th>\n",
       "      <td>CD68</td>\n",
       "      <td>CD8</td>\n",
       "      <td>COLA1</td>\n",
       "      <td>DAPI</td>\n",
       "      <td>E-cadherin</td>\n",
       "      <td>HLA-1</td>\n",
       "      <td>HLA-DR</td>\n",
       "      <td>HLA-E</td>\n",
       "      <td>ICOS</td>\n",
       "      <td>KRT14</td>\n",
       "    </tr>\n",
       "    <tr>\n",
       "      <th>2</th>\n",
       "      <td>Ki67</td>\n",
       "      <td>MUC5AC</td>\n",
       "      <td>MUC5B</td>\n",
       "      <td>Pax5</td>\n",
       "      <td>Vimentin</td>\n",
       "      <td>a-SMA</td>\n",
       "      <td></td>\n",
       "      <td></td>\n",
       "      <td></td>\n",
       "      <td></td>\n",
       "    </tr>\n",
       "  </tbody>\n",
       "</table>\n",
       "</div>"
      ],
      "text/plain": [
       "      1       2      3     4           5      6       7      8     9      10\n",
       "0  CD11b   CD11c  CD138  CD15        CD31   CD3e     CD4   CD44  CD45   CD56\n",
       "1   CD68     CD8  COLA1  DAPI  E-cadherin  HLA-1  HLA-DR  HLA-E  ICOS  KRT14\n",
       "2   Ki67  MUC5AC  MUC5B  Pax5    Vimentin  a-SMA                            "
      ]
     },
     "metadata": {},
     "output_type": "display_data"
    },
    {
     "data": {
      "text/html": [
       "<div>\n",
       "<style scoped>\n",
       "    .dataframe tbody tr th:only-of-type {\n",
       "        vertical-align: middle;\n",
       "    }\n",
       "\n",
       "    .dataframe tbody tr th {\n",
       "        vertical-align: top;\n",
       "    }\n",
       "\n",
       "    .dataframe thead th {\n",
       "        text-align: right;\n",
       "    }\n",
       "</style>\n",
       "<table border=\"1\" class=\"dataframe\">\n",
       "  <thead>\n",
       "    <tr style=\"text-align: right;\">\n",
       "      <th></th>\n",
       "      <th>1</th>\n",
       "      <th>2</th>\n",
       "      <th>3</th>\n",
       "      <th>4</th>\n",
       "      <th>5</th>\n",
       "    </tr>\n",
       "  </thead>\n",
       "  <tbody>\n",
       "    <tr>\n",
       "      <th>0</th>\n",
       "      <td>reg001</td>\n",
       "      <td>reg002</td>\n",
       "      <td>reg003</td>\n",
       "      <td>reg004</td>\n",
       "      <td>reg005</td>\n",
       "    </tr>\n",
       "  </tbody>\n",
       "</table>\n",
       "</div>"
      ],
      "text/plain": [
       "        1       2       3       4       5\n",
       "0  reg001  reg002  reg003  reg004  reg005"
      ]
     },
     "metadata": {},
     "output_type": "display_data"
    }
   ],
   "source": [
    "marker_dir = \"/mnt/nfs/home/wenruiwu/projects/steph_periodontal/data/output/periodontal\"\n",
    "metadata_dict = io.organize_metadata_fusion(marker_dir)\n",
    "\n",
    "unique_markers, _, _, _ = metadata.summary_markers(metadata_dict)\n",
    "utils.display_items(unique_markers)\n",
    "utils.display_items(list(metadata_dict.keys()))\n"
   ]
  }
 ],
 "metadata": {
  "kernelspec": {
   "display_name": "cellSeg",
   "language": "python",
   "name": "python3"
  },
  "language_info": {
   "codemirror_mode": {
    "name": "ipython",
    "version": 3
   },
   "file_extension": ".py",
   "mimetype": "text/x-python",
   "name": "python",
   "nbconvert_exporter": "python",
   "pygments_lexer": "ipython3",
   "version": "3.9.16"
  }
 },
 "nbformat": 4,
 "nbformat_minor": 2
}
